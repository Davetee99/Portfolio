{
 "cells": [
  {
   "cell_type": "markdown",
   "id": "10aa5b94",
   "metadata": {},
   "source": [
    "# Bicycle Ride Share"
   ]
  },
  {
   "cell_type": "code",
   "execution_count": 1,
   "id": "0c128468",
   "metadata": {},
   "outputs": [],
   "source": [
    "#import packages \n",
    "import pandas as pd\n",
    "import numpy as np\n",
    "import matplotlib.pyplot as plt      \n",
    "import seaborn as sns"
   ]
  },
  {
   "cell_type": "code",
   "execution_count": 2,
   "id": "f19f1a13",
   "metadata": {},
   "outputs": [],
   "source": [
    "#load monthly data\n",
    "df_may= pd.read_csv(\"C:/Users/dct_1/PycharmProjects/pythonProject/202205-divvy-tripdata.csv\")\n",
    "df_june= pd.read_csv(\"C:/Users/dct_1/PycharmProjects/pythonProject/202206-divvy-tripdata.csv\")\n",
    "df_july= pd.read_csv(\"C:/Users/dct_1/PycharmProjects/pythonProject/202207-divvy-tripdata.csv\")\n",
    "df_aug= pd.read_csv(\"C:/Users/dct_1/PycharmProjects/pythonProject/202208-divvy-tripdata.csv\")\n",
    "df_sep= pd.read_csv(\"C:/Users/dct_1/PycharmProjects/pythonProject/202209-divvy-tripdata.csv\")\n",
    "df_oct= pd.read_csv(\"C:/Users/dct_1/PycharmProjects/pythonProject/202210-divvy-tripdata.csv\")"
   ]
  },
  {
   "cell_type": "markdown",
   "id": "1fa0248f",
   "metadata": {},
   "source": [
    "Clean the data"
   ]
  },
  {
   "cell_type": "code",
   "execution_count": 3,
   "id": "aa5c5a20",
   "metadata": {},
   "outputs": [],
   "source": [
    "#combine all datasets(all with same columns) \n",
    "df = pd.concat([df_may, df_june,df_july, df_aug, df_sep, df_oct])"
   ]
  },
  {
   "cell_type": "code",
   "execution_count": 4,
   "id": "22619ccc",
   "metadata": {},
   "outputs": [
    {
     "data": {
      "text/plain": [
       "ride_id                object\n",
       "rideable_type          object\n",
       "started_at             object\n",
       "ended_at               object\n",
       "start_station_name     object\n",
       "start_station_id       object\n",
       "end_station_name       object\n",
       "end_station_id         object\n",
       "start_lat             float64\n",
       "start_lng             float64\n",
       "end_lat               float64\n",
       "end_lng               float64\n",
       "member_casual          object\n",
       "dtype: object"
      ]
     },
     "execution_count": 4,
     "metadata": {},
     "output_type": "execute_result"
    }
   ],
   "source": [
    "df.dtypes"
   ]
  },
  {
   "cell_type": "code",
   "execution_count": 5,
   "id": "d960fbed",
   "metadata": {},
   "outputs": [
    {
     "data": {
      "text/plain": [
       "(4273506, 13)"
      ]
     },
     "execution_count": 5,
     "metadata": {},
     "output_type": "execute_result"
    }
   ],
   "source": [
    "df.shape"
   ]
  },
  {
   "cell_type": "code",
   "execution_count": 6,
   "id": "020799c6",
   "metadata": {},
   "outputs": [],
   "source": [
    "#convert started_at and ended_at to datetime\n",
    "# errors=coerce to NaT(not a time, for dates that cant be converted)\n",
    "df['started_at']=pd.to_datetime(df['started_at'], errors='coerce')\n",
    "df['ended_at']=pd.to_datetime(df['ended_at'], errors='coerce')"
   ]
  },
  {
   "cell_type": "code",
   "execution_count": 7,
   "id": "0011f833",
   "metadata": {},
   "outputs": [
    {
     "name": "stdout",
     "output_type": "stream",
     "text": [
      "<class 'pandas.core.frame.DataFrame'>\n",
      "Int64Index: 4273506 entries, 0 to 558684\n",
      "Data columns (total 13 columns):\n",
      " #   Column              Dtype         \n",
      "---  ------              -----         \n",
      " 0   ride_id             object        \n",
      " 1   rideable_type       object        \n",
      " 2   started_at          datetime64[ns]\n",
      " 3   ended_at            datetime64[ns]\n",
      " 4   start_station_name  object        \n",
      " 5   start_station_id    object        \n",
      " 6   end_station_name    object        \n",
      " 7   end_station_id      object        \n",
      " 8   start_lat           float64       \n",
      " 9   start_lng           float64       \n",
      " 10  end_lat             float64       \n",
      " 11  end_lng             float64       \n",
      " 12  member_casual       object        \n",
      "dtypes: datetime64[ns](2), float64(4), object(7)\n",
      "memory usage: 456.5+ MB\n"
     ]
    }
   ],
   "source": [
    "df.info()"
   ]
  },
  {
   "cell_type": "code",
   "execution_count": 8,
   "id": "994b8c7c",
   "metadata": {},
   "outputs": [
    {
     "name": "stdout",
     "output_type": "stream",
     "text": [
      "Index(['ride_id', 'rideable_type', 'started_at', 'ended_at',\n",
      "       'start_station_name', 'start_station_id', 'end_station_name',\n",
      "       'end_station_id', 'start_lat', 'start_lng', 'end_lat', 'end_lng',\n",
      "       'member_casual'],\n",
      "      dtype='object')\n"
     ]
    }
   ],
   "source": [
    "print(df.columns)"
   ]
  },
  {
   "cell_type": "code",
   "execution_count": 9,
   "id": "0053c9b0",
   "metadata": {},
   "outputs": [
    {
     "name": "stdout",
     "output_type": "stream",
     "text": [
      "Index(['ride_id', 'rideable_type', 'started_at', 'ended_at',\n",
      "       'start_station_name', 'start_station_id', 'end_station_name',\n",
      "       'end_station_id', 'member_casual'],\n",
      "      dtype='object')\n"
     ]
    }
   ],
   "source": [
    "#drop 'start_lat','start_lng','end_lat','end_lng'columns\n",
    "df.drop(axis=1, columns=['start_lat','start_lng','end_lat','end_lng'],inplace=True)\n",
    "print(df.columns)"
   ]
  },
  {
   "cell_type": "code",
   "execution_count": 10,
   "id": "db9b370e",
   "metadata": {
    "scrolled": true
   },
   "outputs": [],
   "source": [
    "#calculate ride length as duration hh:mm thx google\n",
    "df['duration'] = df['ended_at'] - df['started_at']\n",
    "df['duration'] = df['duration'].apply(lambda x: x / np.timedelta64(1, 'h'))\n",
    "df['duration'] = df['duration'].apply(lambda x: \"{:.0f}:{:.0f}\".format(*divmod(x * 60, 60)))"
   ]
  },
  {
   "cell_type": "code",
   "execution_count": 11,
   "id": "1b41240b",
   "metadata": {},
   "outputs": [
    {
     "data": {
      "text/plain": [
       "ride_id                       object\n",
       "rideable_type                 object\n",
       "started_at            datetime64[ns]\n",
       "ended_at              datetime64[ns]\n",
       "start_station_name            object\n",
       "start_station_id              object\n",
       "end_station_name              object\n",
       "end_station_id                object\n",
       "member_casual                 object\n",
       "duration                      object\n",
       "dtype: object"
      ]
     },
     "execution_count": 11,
     "metadata": {},
     "output_type": "execute_result"
    }
   ],
   "source": [
    "df.dtypes"
   ]
  },
  {
   "cell_type": "code",
   "execution_count": 12,
   "id": "2451777e",
   "metadata": {},
   "outputs": [
    {
     "data": {
      "text/plain": [
       "0"
      ]
     },
     "execution_count": 12,
     "metadata": {},
     "output_type": "execute_result"
    }
   ],
   "source": [
    "#check for duplicates\n",
    "df.duplicated().sum()"
   ]
  },
  {
   "cell_type": "code",
   "execution_count": 13,
   "id": "c1f48225",
   "metadata": {},
   "outputs": [
    {
     "data": {
      "text/plain": [
       "ride_id                    0\n",
       "rideable_type              0\n",
       "started_at                 0\n",
       "ended_at                   0\n",
       "start_station_name    598851\n",
       "start_station_id      598851\n",
       "end_station_name      642598\n",
       "end_station_id        642598\n",
       "member_casual              0\n",
       "duration                   0\n",
       "dtype: int64"
      ]
     },
     "execution_count": 13,
     "metadata": {},
     "output_type": "execute_result"
    }
   ],
   "source": [
    "#check for null\n",
    "df.isna().sum()"
   ]
  },
  {
   "cell_type": "code",
   "execution_count": 14,
   "id": "0e02f93b",
   "metadata": {},
   "outputs": [],
   "source": [
    "#replace station \"na\" with 'unknown'\n",
    "df.fillna('unknown', inplace=True)"
   ]
  },
  {
   "cell_type": "code",
   "execution_count": 15,
   "id": "2d2f4dd5",
   "metadata": {},
   "outputs": [
    {
     "data": {
      "text/plain": [
       "ride_id               0\n",
       "rideable_type         0\n",
       "started_at            0\n",
       "ended_at              0\n",
       "start_station_name    0\n",
       "start_station_id      0\n",
       "end_station_name      0\n",
       "end_station_id        0\n",
       "member_casual         0\n",
       "duration              0\n",
       "dtype: int64"
      ]
     },
     "execution_count": 15,
     "metadata": {},
     "output_type": "execute_result"
    }
   ],
   "source": [
    "df.isna().sum()"
   ]
  },
  {
   "cell_type": "code",
   "execution_count": 16,
   "id": "9b8e9eff",
   "metadata": {},
   "outputs": [],
   "source": [
    "#added day of week column to determine weekend use\n",
    "df['day_of_week'] = df['started_at'].dt.weekday.map({0:'Monday',1:'Tuesday',2:'Wednesday',3:'Thursday',\n",
    "                                                     4:'Friday',5:'Saturday',6:'Sunday'})"
   ]
  },
  {
   "cell_type": "code",
   "execution_count": 17,
   "id": "5c480099",
   "metadata": {},
   "outputs": [
    {
     "data": {
      "text/html": [
       "<div>\n",
       "<style scoped>\n",
       "    .dataframe tbody tr th:only-of-type {\n",
       "        vertical-align: middle;\n",
       "    }\n",
       "\n",
       "    .dataframe tbody tr th {\n",
       "        vertical-align: top;\n",
       "    }\n",
       "\n",
       "    .dataframe thead th {\n",
       "        text-align: right;\n",
       "    }\n",
       "</style>\n",
       "<table border=\"1\" class=\"dataframe\">\n",
       "  <thead>\n",
       "    <tr style=\"text-align: right;\">\n",
       "      <th></th>\n",
       "      <th>ride_id</th>\n",
       "      <th>rideable_type</th>\n",
       "      <th>started_at</th>\n",
       "      <th>ended_at</th>\n",
       "      <th>start_station_name</th>\n",
       "      <th>start_station_id</th>\n",
       "      <th>end_station_name</th>\n",
       "      <th>end_station_id</th>\n",
       "      <th>member_casual</th>\n",
       "      <th>duration</th>\n",
       "      <th>day_of_week</th>\n",
       "    </tr>\n",
       "  </thead>\n",
       "  <tbody>\n",
       "    <tr>\n",
       "      <th>0</th>\n",
       "      <td>EC2DE40644C6B0F4</td>\n",
       "      <td>classic_bike</td>\n",
       "      <td>2022-05-23 23:06:58</td>\n",
       "      <td>2022-05-23 23:40:19</td>\n",
       "      <td>Wabash Ave &amp; Grand Ave</td>\n",
       "      <td>TA1307000117</td>\n",
       "      <td>Halsted St &amp; Roscoe St</td>\n",
       "      <td>TA1309000025</td>\n",
       "      <td>member</td>\n",
       "      <td>0:33</td>\n",
       "      <td>Monday</td>\n",
       "    </tr>\n",
       "    <tr>\n",
       "      <th>1</th>\n",
       "      <td>1C31AD03897EE385</td>\n",
       "      <td>classic_bike</td>\n",
       "      <td>2022-05-11 08:53:28</td>\n",
       "      <td>2022-05-11 09:31:22</td>\n",
       "      <td>DuSable Lake Shore Dr &amp; Monroe St</td>\n",
       "      <td>13300</td>\n",
       "      <td>Field Blvd &amp; South Water St</td>\n",
       "      <td>15534</td>\n",
       "      <td>member</td>\n",
       "      <td>0:38</td>\n",
       "      <td>Wednesday</td>\n",
       "    </tr>\n",
       "    <tr>\n",
       "      <th>2</th>\n",
       "      <td>1542FBEC830415CF</td>\n",
       "      <td>classic_bike</td>\n",
       "      <td>2022-05-26 18:36:28</td>\n",
       "      <td>2022-05-26 18:58:18</td>\n",
       "      <td>Clinton St &amp; Madison St</td>\n",
       "      <td>TA1305000032</td>\n",
       "      <td>Wood St &amp; Milwaukee Ave</td>\n",
       "      <td>13221</td>\n",
       "      <td>member</td>\n",
       "      <td>0:22</td>\n",
       "      <td>Thursday</td>\n",
       "    </tr>\n",
       "    <tr>\n",
       "      <th>3</th>\n",
       "      <td>6FF59852924528F8</td>\n",
       "      <td>classic_bike</td>\n",
       "      <td>2022-05-10 07:30:07</td>\n",
       "      <td>2022-05-10 07:38:49</td>\n",
       "      <td>Clinton St &amp; Madison St</td>\n",
       "      <td>TA1305000032</td>\n",
       "      <td>Clark St &amp; Randolph St</td>\n",
       "      <td>TA1305000030</td>\n",
       "      <td>member</td>\n",
       "      <td>0:9</td>\n",
       "      <td>Tuesday</td>\n",
       "    </tr>\n",
       "    <tr>\n",
       "      <th>4</th>\n",
       "      <td>483C52CAAE12E3AC</td>\n",
       "      <td>classic_bike</td>\n",
       "      <td>2022-05-10 17:31:56</td>\n",
       "      <td>2022-05-10 17:36:57</td>\n",
       "      <td>Clinton St &amp; Madison St</td>\n",
       "      <td>TA1305000032</td>\n",
       "      <td>Morgan St &amp; Lake St</td>\n",
       "      <td>TA1306000015</td>\n",
       "      <td>member</td>\n",
       "      <td>0:5</td>\n",
       "      <td>Tuesday</td>\n",
       "    </tr>\n",
       "    <tr>\n",
       "      <th>...</th>\n",
       "      <td>...</td>\n",
       "      <td>...</td>\n",
       "      <td>...</td>\n",
       "      <td>...</td>\n",
       "      <td>...</td>\n",
       "      <td>...</td>\n",
       "      <td>...</td>\n",
       "      <td>...</td>\n",
       "      <td>...</td>\n",
       "      <td>...</td>\n",
       "      <td>...</td>\n",
       "    </tr>\n",
       "    <tr>\n",
       "      <th>558680</th>\n",
       "      <td>BC3BFA659C9AB6F1</td>\n",
       "      <td>classic_bike</td>\n",
       "      <td>2022-10-30 01:41:29</td>\n",
       "      <td>2022-10-30 01:57:16</td>\n",
       "      <td>Clifton Ave &amp; Armitage Ave</td>\n",
       "      <td>TA1307000163</td>\n",
       "      <td>Lincoln Ave &amp; Roscoe St*</td>\n",
       "      <td>chargingstx5</td>\n",
       "      <td>casual</td>\n",
       "      <td>0:16</td>\n",
       "      <td>Sunday</td>\n",
       "    </tr>\n",
       "    <tr>\n",
       "      <th>558681</th>\n",
       "      <td>ACD65450291CF95F</td>\n",
       "      <td>classic_bike</td>\n",
       "      <td>2022-10-30 01:41:54</td>\n",
       "      <td>2022-10-30 01:57:09</td>\n",
       "      <td>Clifton Ave &amp; Armitage Ave</td>\n",
       "      <td>TA1307000163</td>\n",
       "      <td>Lincoln Ave &amp; Roscoe St*</td>\n",
       "      <td>chargingstx5</td>\n",
       "      <td>casual</td>\n",
       "      <td>0:15</td>\n",
       "      <td>Sunday</td>\n",
       "    </tr>\n",
       "    <tr>\n",
       "      <th>558682</th>\n",
       "      <td>4AAC03D1438E97CA</td>\n",
       "      <td>classic_bike</td>\n",
       "      <td>2022-10-15 09:34:11</td>\n",
       "      <td>2022-10-15 10:03:21</td>\n",
       "      <td>Sedgwick St &amp; North Ave</td>\n",
       "      <td>TA1307000038</td>\n",
       "      <td>Wabash Ave &amp; Grand Ave</td>\n",
       "      <td>TA1307000117</td>\n",
       "      <td>casual</td>\n",
       "      <td>0:29</td>\n",
       "      <td>Saturday</td>\n",
       "    </tr>\n",
       "    <tr>\n",
       "      <th>558683</th>\n",
       "      <td>8E6F3F29785E5D40</td>\n",
       "      <td>classic_bike</td>\n",
       "      <td>2022-10-09 10:21:34</td>\n",
       "      <td>2022-10-09 10:43:45</td>\n",
       "      <td>Sedgwick St &amp; North Ave</td>\n",
       "      <td>TA1307000038</td>\n",
       "      <td>Damen Ave &amp; Clybourn Ave</td>\n",
       "      <td>13271</td>\n",
       "      <td>member</td>\n",
       "      <td>0:22</td>\n",
       "      <td>Sunday</td>\n",
       "    </tr>\n",
       "    <tr>\n",
       "      <th>558684</th>\n",
       "      <td>8D14CBE672431920</td>\n",
       "      <td>docked_bike</td>\n",
       "      <td>2022-10-22 13:17:13</td>\n",
       "      <td>2022-10-22 13:46:14</td>\n",
       "      <td>Clark St &amp; Armitage Ave</td>\n",
       "      <td>13146</td>\n",
       "      <td>Wabash Ave &amp; Grand Ave</td>\n",
       "      <td>TA1307000117</td>\n",
       "      <td>casual</td>\n",
       "      <td>0:29</td>\n",
       "      <td>Saturday</td>\n",
       "    </tr>\n",
       "  </tbody>\n",
       "</table>\n",
       "<p>4273506 rows × 11 columns</p>\n",
       "</div>"
      ],
      "text/plain": [
       "                 ride_id rideable_type          started_at  \\\n",
       "0       EC2DE40644C6B0F4  classic_bike 2022-05-23 23:06:58   \n",
       "1       1C31AD03897EE385  classic_bike 2022-05-11 08:53:28   \n",
       "2       1542FBEC830415CF  classic_bike 2022-05-26 18:36:28   \n",
       "3       6FF59852924528F8  classic_bike 2022-05-10 07:30:07   \n",
       "4       483C52CAAE12E3AC  classic_bike 2022-05-10 17:31:56   \n",
       "...                  ...           ...                 ...   \n",
       "558680  BC3BFA659C9AB6F1  classic_bike 2022-10-30 01:41:29   \n",
       "558681  ACD65450291CF95F  classic_bike 2022-10-30 01:41:54   \n",
       "558682  4AAC03D1438E97CA  classic_bike 2022-10-15 09:34:11   \n",
       "558683  8E6F3F29785E5D40  classic_bike 2022-10-09 10:21:34   \n",
       "558684  8D14CBE672431920   docked_bike 2022-10-22 13:17:13   \n",
       "\n",
       "                  ended_at                 start_station_name  \\\n",
       "0      2022-05-23 23:40:19             Wabash Ave & Grand Ave   \n",
       "1      2022-05-11 09:31:22  DuSable Lake Shore Dr & Monroe St   \n",
       "2      2022-05-26 18:58:18            Clinton St & Madison St   \n",
       "3      2022-05-10 07:38:49            Clinton St & Madison St   \n",
       "4      2022-05-10 17:36:57            Clinton St & Madison St   \n",
       "...                    ...                                ...   \n",
       "558680 2022-10-30 01:57:16         Clifton Ave & Armitage Ave   \n",
       "558681 2022-10-30 01:57:09         Clifton Ave & Armitage Ave   \n",
       "558682 2022-10-15 10:03:21            Sedgwick St & North Ave   \n",
       "558683 2022-10-09 10:43:45            Sedgwick St & North Ave   \n",
       "558684 2022-10-22 13:46:14            Clark St & Armitage Ave   \n",
       "\n",
       "       start_station_id             end_station_name end_station_id  \\\n",
       "0          TA1307000117       Halsted St & Roscoe St   TA1309000025   \n",
       "1                 13300  Field Blvd & South Water St          15534   \n",
       "2          TA1305000032      Wood St & Milwaukee Ave          13221   \n",
       "3          TA1305000032       Clark St & Randolph St   TA1305000030   \n",
       "4          TA1305000032          Morgan St & Lake St   TA1306000015   \n",
       "...                 ...                          ...            ...   \n",
       "558680     TA1307000163     Lincoln Ave & Roscoe St*   chargingstx5   \n",
       "558681     TA1307000163     Lincoln Ave & Roscoe St*   chargingstx5   \n",
       "558682     TA1307000038       Wabash Ave & Grand Ave   TA1307000117   \n",
       "558683     TA1307000038     Damen Ave & Clybourn Ave          13271   \n",
       "558684            13146       Wabash Ave & Grand Ave   TA1307000117   \n",
       "\n",
       "       member_casual duration day_of_week  \n",
       "0             member     0:33      Monday  \n",
       "1             member     0:38   Wednesday  \n",
       "2             member     0:22    Thursday  \n",
       "3             member      0:9     Tuesday  \n",
       "4             member      0:5     Tuesday  \n",
       "...              ...      ...         ...  \n",
       "558680        casual     0:16      Sunday  \n",
       "558681        casual     0:15      Sunday  \n",
       "558682        casual     0:29    Saturday  \n",
       "558683        member     0:22      Sunday  \n",
       "558684        casual     0:29    Saturday  \n",
       "\n",
       "[4273506 rows x 11 columns]"
      ]
     },
     "execution_count": 17,
     "metadata": {},
     "output_type": "execute_result"
    }
   ],
   "source": [
    "df"
   ]
  },
  {
   "cell_type": "markdown",
   "id": "ceb77caa",
   "metadata": {},
   "source": [
    "Analyze"
   ]
  },
  {
   "cell_type": "markdown",
   "id": "0a7c4844",
   "metadata": {},
   "source": [
    "# How do annual members and casual riders use Cyclistic bikes differently?"
   ]
  },
  {
   "cell_type": "code",
   "execution_count": 18,
   "id": "bca911e3",
   "metadata": {},
   "outputs": [
    {
     "name": "stdout",
     "output_type": "stream",
     "text": [
      "4273506\n",
      "member    55.1\n",
      "casual    44.9\n",
      "Name: member_casual, dtype: float64\n"
     ]
    }
   ],
   "source": [
    "#Count riders and show mean\n",
    "ct = df['member_casual'].count()\n",
    "member_ct = df['member_casual'].value_counts()\n",
    "mem_pct = ((member_ct/ct)*100).round(decimals=1)\n",
    "print(ct)\n",
    "print(mem_pct)"
   ]
  },
  {
   "cell_type": "code",
   "execution_count": 19,
   "id": "ceae6a8e",
   "metadata": {},
   "outputs": [
    {
     "data": {
      "text/plain": [
       "member_casual\n",
       "casual    9:9\n",
       "member    9:8\n",
       "Name: duration, dtype: object"
      ]
     },
     "execution_count": 19,
     "metadata": {},
     "output_type": "execute_result"
    }
   ],
   "source": [
    "mem_duration = df.groupby('member_casual')['duration'].max()\n",
    "mem_duration\n",
    "\n"
   ]
  },
  {
   "cell_type": "code",
   "execution_count": 20,
   "id": "de3efebd",
   "metadata": {},
   "outputs": [],
   "source": [
    "#duration in HH:MM(str)  convert as variable duration1(float)thx google\n",
    "df['duration_flt'] = pd.to_numeric(df['duration'].str.split(':').apply(lambda x: int(x[0]) + int(x[1])/60))"
   ]
  },
  {
   "cell_type": "code",
   "execution_count": 21,
   "id": "7aa806fe",
   "metadata": {},
   "outputs": [
    {
     "data": {
      "text/html": [
       "<div>\n",
       "<style scoped>\n",
       "    .dataframe tbody tr th:only-of-type {\n",
       "        vertical-align: middle;\n",
       "    }\n",
       "\n",
       "    .dataframe tbody tr th {\n",
       "        vertical-align: top;\n",
       "    }\n",
       "\n",
       "    .dataframe thead tr th {\n",
       "        text-align: left;\n",
       "    }\n",
       "\n",
       "    .dataframe thead tr:last-of-type th {\n",
       "        text-align: right;\n",
       "    }\n",
       "</style>\n",
       "<table border=\"1\" class=\"dataframe\">\n",
       "  <thead>\n",
       "    <tr>\n",
       "      <th></th>\n",
       "      <th>mean</th>\n",
       "      <th>median</th>\n",
       "    </tr>\n",
       "    <tr>\n",
       "      <th></th>\n",
       "      <th>duration_flt</th>\n",
       "      <th>duration_flt</th>\n",
       "    </tr>\n",
       "    <tr>\n",
       "      <th>member_casual</th>\n",
       "      <th></th>\n",
       "      <th></th>\n",
       "    </tr>\n",
       "  </thead>\n",
       "  <tbody>\n",
       "    <tr>\n",
       "      <th>casual</th>\n",
       "      <td>0.492372</td>\n",
       "      <td>0.216667</td>\n",
       "    </tr>\n",
       "    <tr>\n",
       "      <th>member</th>\n",
       "      <td>0.220954</td>\n",
       "      <td>0.150000</td>\n",
       "    </tr>\n",
       "  </tbody>\n",
       "</table>\n",
       "</div>"
      ],
      "text/plain": [
       "                      mean       median\n",
       "              duration_flt duration_flt\n",
       "member_casual                          \n",
       "casual            0.492372     0.216667\n",
       "member            0.220954     0.150000"
      ]
     },
     "execution_count": 21,
     "metadata": {},
     "output_type": "execute_result"
    }
   ],
   "source": [
    "#mean and median duration \n",
    "df.pivot_table(values='duration_flt', index='member_casual', aggfunc=[np.mean,np.median])\n"
   ]
  },
  {
   "cell_type": "code",
   "execution_count": 22,
   "id": "d013f19d",
   "metadata": {},
   "outputs": [
    {
     "data": {
      "text/plain": [
       "electric_bike    2159008\n",
       "classic_bike     1967631\n",
       "docked_bike       146867\n",
       "Name: rideable_type, dtype: int64"
      ]
     },
     "execution_count": 22,
     "metadata": {},
     "output_type": "execute_result"
    }
   ],
   "source": [
    "bike_ct= df['rideable_type'].value_counts()\n",
    "bike_ct"
   ]
  },
  {
   "cell_type": "code",
   "execution_count": 23,
   "id": "11bf2c08",
   "metadata": {},
   "outputs": [
    {
     "data": {
      "text/plain": [
       "member_casual  rideable_type  rideable_type\n",
       "casual         classic_bike   classic_bike      747744\n",
       "               docked_bike    docked_bike       146867\n",
       "               electric_bike  electric_bike    1025520\n",
       "member         classic_bike   classic_bike     1219887\n",
       "               electric_bike  electric_bike    1133488\n",
       "Name: rideable_type, dtype: int64"
      ]
     },
     "execution_count": 23,
     "metadata": {},
     "output_type": "execute_result"
    }
   ],
   "source": [
    "#df.pivot_table(values=['rideable_type'].value_counts(), index='member_casual', columns='rideable_type')\n",
    "df.groupby(['member_casual','rideable_type'])['rideable_type'].value_counts()"
   ]
  },
  {
   "cell_type": "code",
   "execution_count": 24,
   "id": "2a92b38b",
   "metadata": {},
   "outputs": [
    {
     "name": "stdout",
     "output_type": "stream",
     "text": [
      "day_of_week\n",
      "Monday       327016\n",
      "Tuesday      345552\n",
      "Wednesday    360521\n",
      "Thursday     369659\n",
      "Friday       337333\n",
      "Saturday     327600\n",
      "Sunday       285694\n",
      "Name: member_casual, dtype: int64\n"
     ]
    }
   ],
   "source": [
    "# member and casual riders each day grouped in order by day of week\n",
    "cats = [ 'Monday', 'Tuesday', 'Wednesday', 'Thursday', 'Friday', 'Saturday', 'Sunday']\n",
    "df_weekday = df[df['day_of_week'].isin(['Monday', 'Tuesday', 'Wednesday', 'Thursday', 'Friday', 'Saturday', 'Sunday'])]\n",
    "mem_wd_ct= df_weekday[df_weekday['member_casual'] == 'member'].groupby('day_of_week')['member_casual'].count().reindex(cats[:7])\n",
    "cas_wd_ct=df_weekday[df_weekday['member_casual'] == 'casual'].groupby('day_of_week')['member_casual'].count().reindex(cats[:7])\n",
    "\n",
    "print(mem_wd_ct)\n"
   ]
  },
  {
   "cell_type": "code",
   "execution_count": 25,
   "id": "77558ef2",
   "metadata": {},
   "outputs": [
    {
     "name": "stdout",
     "output_type": "stream",
     "text": [
      "day_of_week\n",
      "Monday       229093\n",
      "Tuesday      212136\n",
      "Wednesday    220888\n",
      "Thursday     249947\n",
      "Friday       283844\n",
      "Saturday     395711\n",
      "Sunday       328512\n",
      "Name: member_casual, dtype: int64\n"
     ]
    }
   ],
   "source": [
    "print(cas_wd_ct)"
   ]
  },
  {
   "cell_type": "code",
   "execution_count": 26,
   "id": "d85d51e3",
   "metadata": {},
   "outputs": [
    {
     "data": {
      "image/png": "[encoded data removed]",
      "text/plain": [
       "<Figure size 640x480 with 1 Axes>"
      ]
     },
     "metadata": {},
     "output_type": "display_data"
    }
   ],
   "source": [
    "# plot to show how weekend is opposite\n",
    "barWidth = 0.4\n",
    "r1 = np.arange(len(mem_wd_ct))\n",
    "r2 = [x + barWidth for x in r1]\n",
    "\n",
    "plt.bar(r1, mem_wd_ct, width = barWidth, label = 'member')\n",
    "plt.bar(r2, cas_wd_ct, width = barWidth, label = 'casual')\n",
    "\n",
    "# labels and title\n",
    "plt.xlabel('Day of Week')\n",
    "plt.ylabel('Count')\n",
    "plt.title('Count of Member and Casual by Day of Week')\n",
    "\n",
    "# xticks to fit and rotate x labels\n",
    "plt.xticks([r + barWidth/2 for r in range(len(mem_wd_ct))], mem_wd_ct.index)\n",
    "plt.xticks(rotation=30)\n",
    "\n",
    "plt.legend()\n",
    "\n",
    "plt.show()"
   ]
  },
  {
   "cell_type": "code",
   "execution_count": null,
   "id": "7d73ce98",
   "metadata": {},
   "outputs": [],
   "source": []
  }
 ],
 "metadata": {
  "kernelspec": {
   "display_name": "Python 3 (ipykernel)",
   "language": "python",
   "name": "python3"
  },
  "language_info": {
   "codemirror_mode": {
    "name": "ipython",
    "version": 3
   },
   "file_extension": ".py",
   "mimetype": "text/x-python",
   "name": "python",
   "nbconvert_exporter": "python",
   "pygments_lexer": "ipython3",
   "version": "3.9.13"
  }
 },
 "nbformat": 4,
 "nbformat_minor": 5
}
