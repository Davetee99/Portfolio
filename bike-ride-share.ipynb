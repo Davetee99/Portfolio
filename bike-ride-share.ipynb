{
 "cells": [
  {
   "cell_type": "markdown",
   "id": "3bc47125",
   "metadata": {
    "papermill": {
     "duration": 0.009192,
     "end_time": "2023-02-08T19:32:56.875196",
     "exception": false,
     "start_time": "2023-02-08T19:32:56.866004",
     "status": "completed"
    },
    "tags": []
   },
   "source": [
    "# Bicycle Ride Share"
   ]
  },
  {
   "cell_type": "code",
   "execution_count": 1,
   "id": "727e595d",
   "metadata": {
    "execution": {
     "iopub.execute_input": "2023-02-08T19:32:56.895497Z",
     "iopub.status.busy": "2023-02-08T19:32:56.894071Z",
     "iopub.status.idle": "2023-02-08T19:32:58.255828Z",
     "shell.execute_reply": "2023-02-08T19:32:58.254764Z"
    },
    "papermill": {
     "duration": 1.37533,
     "end_time": "2023-02-08T19:32:58.258834",
     "exception": false,
     "start_time": "2023-02-08T19:32:56.883504",
     "status": "completed"
    },
    "tags": []
   },
   "outputs": [],
   "source": [
    "#import packages \n",
    "import pandas as pd\n",
    "import numpy as np\n",
    "import matplotlib.pyplot as plt      \n",
    "import seaborn as sns"
   ]
  },
  {
   "cell_type": "code",
   "execution_count": 2,
   "id": "9986c8bd",
   "metadata": {
    "execution": {
     "iopub.execute_input": "2023-02-08T19:32:58.276964Z",
     "iopub.status.busy": "2023-02-08T19:32:58.276306Z",
     "iopub.status.idle": "2023-02-08T19:33:32.966786Z",
     "shell.execute_reply": "2023-02-08T19:33:32.965027Z"
    },
    "papermill": {
     "duration": 34.703831,
     "end_time": "2023-02-08T19:33:32.970554",
     "exception": false,
     "start_time": "2023-02-08T19:32:58.266723",
     "status": "completed"
    },
    "tags": []
   },
   "outputs": [],
   "source": [
    "#load monthly data\n",
    "df_may= pd.read_csv(\"/kaggle/input/divvytripdata-2022-dataset/202205-divvy-tripdata/202205-divvy-tripdata.csv\")\n",
    "df_june= pd.read_csv(\"/kaggle/input/divvytripdata-2022-dataset/202206-divvy-tripdata/202206-divvy-tripdata.csv\")\n",
    "df_july= pd.read_csv(\"/kaggle/input/divvytripdata-2022-dataset/202207-divvy-tripdata/202207-divvy-tripdata.csv\")\n",
    "df_aug= pd.read_csv(\"/kaggle/input/divvytripdata-2022-dataset/202208-divvy-tripdata/202208-divvy-tripdata.csv\")\n",
    "df_sep= pd.read_csv(\"/kaggle/input/divvytripdata-2022-dataset/202209-divvy-tripdata/202209-divvy-publictripdata.csv\")\n",
    "df_oct= pd.read_csv(\"/kaggle/input/divvytripdata-2022-dataset/202210-divvy-tripdata/202210-divvy-tripdata.csv\")"
   ]
  },
  {
   "cell_type": "markdown",
   "id": "a53946a4",
   "metadata": {
    "papermill": {
     "duration": 0.00862,
     "end_time": "2023-02-08T19:33:32.987726",
     "exception": false,
     "start_time": "2023-02-08T19:33:32.979106",
     "status": "completed"
    },
    "tags": []
   },
   "source": [
    "Clean the data"
   ]
  },
  {
   "cell_type": "code",
   "execution_count": 3,
   "id": "2234713a",
   "metadata": {
    "execution": {
     "iopub.execute_input": "2023-02-08T19:33:33.008337Z",
     "iopub.status.busy": "2023-02-08T19:33:33.007808Z",
     "iopub.status.idle": "2023-02-08T19:33:34.990650Z",
     "shell.execute_reply": "2023-02-08T19:33:34.989013Z"
    },
    "papermill": {
     "duration": 1.996676,
     "end_time": "2023-02-08T19:33:34.994034",
     "exception": false,
     "start_time": "2023-02-08T19:33:32.997358",
     "status": "completed"
    },
    "tags": []
   },
   "outputs": [],
   "source": [
    "#combine all datasets(all with same columns) \n",
    "df = pd.concat([df_may, df_june,df_july, df_aug, df_sep, df_oct])"
   ]
  },
  {
   "cell_type": "code",
   "execution_count": 4,
   "id": "6915728f",
   "metadata": {
    "execution": {
     "iopub.execute_input": "2023-02-08T19:33:35.014204Z",
     "iopub.status.busy": "2023-02-08T19:33:35.013607Z",
     "iopub.status.idle": "2023-02-08T19:33:35.032200Z",
     "shell.execute_reply": "2023-02-08T19:33:35.030671Z"
    },
    "papermill": {
     "duration": 0.033009,
     "end_time": "2023-02-08T19:33:35.035652",
     "exception": false,
     "start_time": "2023-02-08T19:33:35.002643",
     "status": "completed"
    },
    "tags": []
   },
   "outputs": [
    {
     "data": {
      "text/plain": [
       "ride_id                object\n",
       "rideable_type          object\n",
       "started_at             object\n",
       "ended_at               object\n",
       "start_station_name     object\n",
       "start_station_id       object\n",
       "end_station_name       object\n",
       "end_station_id         object\n",
       "start_lat             float64\n",
       "start_lng             float64\n",
       "end_lat               float64\n",
       "end_lng               float64\n",
       "member_casual          object\n",
       "dtype: object"
      ]
     },
     "execution_count": 4,
     "metadata": {},
     "output_type": "execute_result"
    }
   ],
   "source": [
    "df.dtypes"
   ]
  },
  {
   "cell_type": "code",
   "execution_count": 5,
   "id": "e35ae684",
   "metadata": {
    "execution": {
     "iopub.execute_input": "2023-02-08T19:33:35.054685Z",
     "iopub.status.busy": "2023-02-08T19:33:35.054140Z",
     "iopub.status.idle": "2023-02-08T19:33:35.064111Z",
     "shell.execute_reply": "2023-02-08T19:33:35.062660Z"
    },
    "papermill": {
     "duration": 0.023013,
     "end_time": "2023-02-08T19:33:35.066891",
     "exception": false,
     "start_time": "2023-02-08T19:33:35.043878",
     "status": "completed"
    },
    "tags": []
   },
   "outputs": [
    {
     "data": {
      "text/plain": [
       "(4273506, 13)"
      ]
     },
     "execution_count": 5,
     "metadata": {},
     "output_type": "execute_result"
    }
   ],
   "source": [
    "df.shape"
   ]
  },
  {
   "cell_type": "markdown",
   "id": "5bb74185",
   "metadata": {
    "papermill": {
     "duration": 0.008849,
     "end_time": "2023-02-08T19:33:35.086859",
     "exception": false,
     "start_time": "2023-02-08T19:33:35.078010",
     "status": "completed"
    },
    "tags": []
   },
   "source": [
    "# Clean the data:"
   ]
  },
  {
   "cell_type": "code",
   "execution_count": 6,
   "id": "cee7db49",
   "metadata": {
    "execution": {
     "iopub.execute_input": "2023-02-08T19:33:35.107657Z",
     "iopub.status.busy": "2023-02-08T19:33:35.105963Z",
     "iopub.status.idle": "2023-02-08T19:33:38.310051Z",
     "shell.execute_reply": "2023-02-08T19:33:38.308902Z"
    },
    "papermill": {
     "duration": 3.216892,
     "end_time": "2023-02-08T19:33:38.312909",
     "exception": false,
     "start_time": "2023-02-08T19:33:35.096017",
     "status": "completed"
    },
    "tags": []
   },
   "outputs": [],
   "source": [
    "#convert started_at and ended_at to datetime\n",
    "# errors=coerce to NaT(not a time, for dates that cant be converted)\n",
    "df['started_at']=pd.to_datetime(df['started_at'], errors='coerce')\n",
    "df['ended_at']=pd.to_datetime(df['ended_at'], errors='coerce')"
   ]
  },
  {
   "cell_type": "code",
   "execution_count": 7,
   "id": "32e54dbe",
   "metadata": {
    "execution": {
     "iopub.execute_input": "2023-02-08T19:33:38.334894Z",
     "iopub.status.busy": "2023-02-08T19:33:38.333576Z",
     "iopub.status.idle": "2023-02-08T19:33:38.361628Z",
     "shell.execute_reply": "2023-02-08T19:33:38.360011Z"
    },
    "papermill": {
     "duration": 0.04332,
     "end_time": "2023-02-08T19:33:38.365295",
     "exception": false,
     "start_time": "2023-02-08T19:33:38.321975",
     "status": "completed"
    },
    "tags": []
   },
   "outputs": [
    {
     "name": "stdout",
     "output_type": "stream",
     "text": [
      "<class 'pandas.core.frame.DataFrame'>\n",
      "Int64Index: 4273506 entries, 0 to 558684\n",
      "Data columns (total 13 columns):\n",
      " #   Column              Dtype         \n",
      "---  ------              -----         \n",
      " 0   ride_id             object        \n",
      " 1   rideable_type       object        \n",
      " 2   started_at          datetime64[ns]\n",
      " 3   ended_at            datetime64[ns]\n",
      " 4   start_station_name  object        \n",
      " 5   start_station_id    object        \n",
      " 6   end_station_name    object        \n",
      " 7   end_station_id      object        \n",
      " 8   start_lat           float64       \n",
      " 9   start_lng           float64       \n",
      " 10  end_lat             float64       \n",
      " 11  end_lng             float64       \n",
      " 12  member_casual       object        \n",
      "dtypes: datetime64[ns](2), float64(4), object(7)\n",
      "memory usage: 456.5+ MB\n"
     ]
    }
   ],
   "source": [
    "df.info()"
   ]
  },
  {
   "cell_type": "code",
   "execution_count": 8,
   "id": "e9c1b537",
   "metadata": {
    "execution": {
     "iopub.execute_input": "2023-02-08T19:33:38.384980Z",
     "iopub.status.busy": "2023-02-08T19:33:38.384501Z",
     "iopub.status.idle": "2023-02-08T19:33:38.390512Z",
     "shell.execute_reply": "2023-02-08T19:33:38.389533Z"
    },
    "papermill": {
     "duration": 0.019203,
     "end_time": "2023-02-08T19:33:38.393346",
     "exception": false,
     "start_time": "2023-02-08T19:33:38.374143",
     "status": "completed"
    },
    "tags": []
   },
   "outputs": [
    {
     "name": "stdout",
     "output_type": "stream",
     "text": [
      "Index(['ride_id', 'rideable_type', 'started_at', 'ended_at',\n",
      "       'start_station_name', 'start_station_id', 'end_station_name',\n",
      "       'end_station_id', 'start_lat', 'start_lng', 'end_lat', 'end_lng',\n",
      "       'member_casual'],\n",
      "      dtype='object')\n"
     ]
    }
   ],
   "source": [
    "print(df.columns)"
   ]
  },
  {
   "cell_type": "code",
   "execution_count": 9,
   "id": "4af7cf35",
   "metadata": {
    "execution": {
     "iopub.execute_input": "2023-02-08T19:33:38.414154Z",
     "iopub.status.busy": "2023-02-08T19:33:38.413017Z",
     "iopub.status.idle": "2023-02-08T19:33:40.557494Z",
     "shell.execute_reply": "2023-02-08T19:33:40.556348Z"
    },
    "papermill": {
     "duration": 2.160988,
     "end_time": "2023-02-08T19:33:40.562806",
     "exception": false,
     "start_time": "2023-02-08T19:33:38.401818",
     "status": "completed"
    },
    "tags": []
   },
   "outputs": [
    {
     "name": "stdout",
     "output_type": "stream",
     "text": [
      "Index(['ride_id', 'rideable_type', 'started_at', 'ended_at',\n",
      "       'start_station_name', 'start_station_id', 'end_station_name',\n",
      "       'end_station_id', 'member_casual'],\n",
      "      dtype='object')\n"
     ]
    }
   ],
   "source": [
    "#drop 'start_lat','start_lng','end_lat','end_lng'columns\n",
    "df.drop(axis=1, columns=['start_lat','start_lng','end_lat','end_lng'],inplace=True)\n",
    "print(df.columns)"
   ]
  },
  {
   "cell_type": "code",
   "execution_count": 10,
   "id": "1f53afd4",
   "metadata": {
    "execution": {
     "iopub.execute_input": "2023-02-08T19:33:40.585898Z",
     "iopub.status.busy": "2023-02-08T19:33:40.583995Z",
     "iopub.status.idle": "2023-02-08T19:34:32.193417Z",
     "shell.execute_reply": "2023-02-08T19:34:32.191706Z"
    },
    "papermill": {
     "duration": 51.623627,
     "end_time": "2023-02-08T19:34:32.196620",
     "exception": false,
     "start_time": "2023-02-08T19:33:40.572993",
     "status": "completed"
    },
    "scrolled": true,
    "tags": []
   },
   "outputs": [],
   "source": [
    "#calculate ride length as duration hh:mm thx google\n",
    "df['duration'] = df['ended_at'] - df['started_at']\n",
    "df['duration'] = df['duration'].apply(lambda x: x / np.timedelta64(1, 'h'))\n",
    "df['duration'] = df['duration'].apply(lambda x: \"{:.0f}:{:.0f}\".format(*divmod(x * 60, 60)))"
   ]
  },
  {
   "cell_type": "code",
   "execution_count": 11,
   "id": "121970dd",
   "metadata": {
    "execution": {
     "iopub.execute_input": "2023-02-08T19:34:32.215278Z",
     "iopub.status.busy": "2023-02-08T19:34:32.214809Z",
     "iopub.status.idle": "2023-02-08T19:34:32.224577Z",
     "shell.execute_reply": "2023-02-08T19:34:32.223259Z"
    },
    "papermill": {
     "duration": 0.022196,
     "end_time": "2023-02-08T19:34:32.227183",
     "exception": false,
     "start_time": "2023-02-08T19:34:32.204987",
     "status": "completed"
    },
    "tags": []
   },
   "outputs": [
    {
     "data": {
      "text/plain": [
       "ride_id                       object\n",
       "rideable_type                 object\n",
       "started_at            datetime64[ns]\n",
       "ended_at              datetime64[ns]\n",
       "start_station_name            object\n",
       "start_station_id              object\n",
       "end_station_name              object\n",
       "end_station_id                object\n",
       "member_casual                 object\n",
       "duration                      object\n",
       "dtype: object"
      ]
     },
     "execution_count": 11,
     "metadata": {},
     "output_type": "execute_result"
    }
   ],
   "source": [
    "df.dtypes"
   ]
  },
  {
   "cell_type": "code",
   "execution_count": 12,
   "id": "637c607d",
   "metadata": {
    "execution": {
     "iopub.execute_input": "2023-02-08T19:34:32.246166Z",
     "iopub.status.busy": "2023-02-08T19:34:32.245703Z",
     "iopub.status.idle": "2023-02-08T19:34:46.368893Z",
     "shell.execute_reply": "2023-02-08T19:34:46.367825Z"
    },
    "papermill": {
     "duration": 14.136191,
     "end_time": "2023-02-08T19:34:46.371900",
     "exception": false,
     "start_time": "2023-02-08T19:34:32.235709",
     "status": "completed"
    },
    "tags": []
   },
   "outputs": [
    {
     "data": {
      "text/plain": [
       "0"
      ]
     },
     "execution_count": 12,
     "metadata": {},
     "output_type": "execute_result"
    }
   ],
   "source": [
    "#check for duplicates\n",
    "df.duplicated().sum()"
   ]
  },
  {
   "cell_type": "code",
   "execution_count": 13,
   "id": "9edd6188",
   "metadata": {
    "execution": {
     "iopub.execute_input": "2023-02-08T19:34:46.393903Z",
     "iopub.status.busy": "2023-02-08T19:34:46.392582Z",
     "iopub.status.idle": "2023-02-08T19:34:47.904898Z",
     "shell.execute_reply": "2023-02-08T19:34:47.903079Z"
    },
    "papermill": {
     "duration": 1.526409,
     "end_time": "2023-02-08T19:34:47.908585",
     "exception": false,
     "start_time": "2023-02-08T19:34:46.382176",
     "status": "completed"
    },
    "tags": []
   },
   "outputs": [
    {
     "data": {
      "text/plain": [
       "ride_id                    0\n",
       "rideable_type              0\n",
       "started_at                 0\n",
       "ended_at                   0\n",
       "start_station_name    598851\n",
       "start_station_id      598851\n",
       "end_station_name      642598\n",
       "end_station_id        642598\n",
       "member_casual              0\n",
       "duration                   0\n",
       "dtype: int64"
      ]
     },
     "execution_count": 13,
     "metadata": {},
     "output_type": "execute_result"
    }
   ],
   "source": [
    "#check for null\n",
    "df.isna().sum()"
   ]
  },
  {
   "cell_type": "code",
   "execution_count": 14,
   "id": "7390650c",
   "metadata": {
    "execution": {
     "iopub.execute_input": "2023-02-08T19:34:47.931418Z",
     "iopub.status.busy": "2023-02-08T19:34:47.930889Z",
     "iopub.status.idle": "2023-02-08T19:35:35.701401Z",
     "shell.execute_reply": "2023-02-08T19:35:35.700073Z"
    },
    "papermill": {
     "duration": 47.785085,
     "end_time": "2023-02-08T19:35:35.704929",
     "exception": false,
     "start_time": "2023-02-08T19:34:47.919844",
     "status": "completed"
    },
    "tags": []
   },
   "outputs": [],
   "source": [
    "#replace station \"na\" with 'unknown'\n",
    "df.fillna('unknown', inplace=True)"
   ]
  },
  {
   "cell_type": "code",
   "execution_count": 15,
   "id": "778e5432",
   "metadata": {
    "execution": {
     "iopub.execute_input": "2023-02-08T19:35:35.724968Z",
     "iopub.status.busy": "2023-02-08T19:35:35.724418Z",
     "iopub.status.idle": "2023-02-08T19:35:37.236358Z",
     "shell.execute_reply": "2023-02-08T19:35:37.234875Z"
    },
    "papermill": {
     "duration": 1.525611,
     "end_time": "2023-02-08T19:35:37.239607",
     "exception": false,
     "start_time": "2023-02-08T19:35:35.713996",
     "status": "completed"
    },
    "tags": []
   },
   "outputs": [
    {
     "data": {
      "text/plain": [
       "ride_id               0\n",
       "rideable_type         0\n",
       "started_at            0\n",
       "ended_at              0\n",
       "start_station_name    0\n",
       "start_station_id      0\n",
       "end_station_name      0\n",
       "end_station_id        0\n",
       "member_casual         0\n",
       "duration              0\n",
       "dtype: int64"
      ]
     },
     "execution_count": 15,
     "metadata": {},
     "output_type": "execute_result"
    }
   ],
   "source": [
    "df.isna().sum()"
   ]
  },
  {
   "cell_type": "code",
   "execution_count": 16,
   "id": "5f68132d",
   "metadata": {
    "execution": {
     "iopub.execute_input": "2023-02-08T19:35:37.259367Z",
     "iopub.status.busy": "2023-02-08T19:35:37.258871Z",
     "iopub.status.idle": "2023-02-08T19:35:37.855665Z",
     "shell.execute_reply": "2023-02-08T19:35:37.853907Z"
    },
    "papermill": {
     "duration": 0.610335,
     "end_time": "2023-02-08T19:35:37.858899",
     "exception": false,
     "start_time": "2023-02-08T19:35:37.248564",
     "status": "completed"
    },
    "tags": []
   },
   "outputs": [],
   "source": [
    "#added day of week column to determine weekend use\n",
    "df['day_of_week'] = df['started_at'].dt.weekday.map({0:'Monday',1:'Tuesday',2:'Wednesday',3:'Thursday',\n",
    "                                                     4:'Friday',5:'Saturday',6:'Sunday'})"
   ]
  },
  {
   "cell_type": "code",
   "execution_count": 17,
   "id": "58a9ae76",
   "metadata": {
    "execution": {
     "iopub.execute_input": "2023-02-08T19:35:37.882480Z",
     "iopub.status.busy": "2023-02-08T19:35:37.881166Z",
     "iopub.status.idle": "2023-02-08T19:35:37.916009Z",
     "shell.execute_reply": "2023-02-08T19:35:37.914636Z"
    },
    "papermill": {
     "duration": 0.049938,
     "end_time": "2023-02-08T19:35:37.919090",
     "exception": false,
     "start_time": "2023-02-08T19:35:37.869152",
     "status": "completed"
    },
    "tags": []
   },
   "outputs": [
    {
     "data": {
      "text/html": [
       "<div>\n",
       "<style scoped>\n",
       "    .dataframe tbody tr th:only-of-type {\n",
       "        vertical-align: middle;\n",
       "    }\n",
       "\n",
       "    .dataframe tbody tr th {\n",
       "        vertical-align: top;\n",
       "    }\n",
       "\n",
       "    .dataframe thead th {\n",
       "        text-align: right;\n",
       "    }\n",
       "</style>\n",
       "<table border=\"1\" class=\"dataframe\">\n",
       "  <thead>\n",
       "    <tr style=\"text-align: right;\">\n",
       "      <th></th>\n",
       "      <th>ride_id</th>\n",
       "      <th>rideable_type</th>\n",
       "      <th>started_at</th>\n",
       "      <th>ended_at</th>\n",
       "      <th>start_station_name</th>\n",
       "      <th>start_station_id</th>\n",
       "      <th>end_station_name</th>\n",
       "      <th>end_station_id</th>\n",
       "      <th>member_casual</th>\n",
       "      <th>duration</th>\n",
       "      <th>day_of_week</th>\n",
       "    </tr>\n",
       "  </thead>\n",
       "  <tbody>\n",
       "    <tr>\n",
       "      <th>0</th>\n",
       "      <td>EC2DE40644C6B0F4</td>\n",
       "      <td>classic_bike</td>\n",
       "      <td>2022-05-23 23:06:58</td>\n",
       "      <td>2022-05-23 23:40:19</td>\n",
       "      <td>Wabash Ave &amp; Grand Ave</td>\n",
       "      <td>TA1307000117</td>\n",
       "      <td>Halsted St &amp; Roscoe St</td>\n",
       "      <td>TA1309000025</td>\n",
       "      <td>member</td>\n",
       "      <td>0:33</td>\n",
       "      <td>Monday</td>\n",
       "    </tr>\n",
       "    <tr>\n",
       "      <th>1</th>\n",
       "      <td>1C31AD03897EE385</td>\n",
       "      <td>classic_bike</td>\n",
       "      <td>2022-05-11 08:53:28</td>\n",
       "      <td>2022-05-11 09:31:22</td>\n",
       "      <td>DuSable Lake Shore Dr &amp; Monroe St</td>\n",
       "      <td>13300</td>\n",
       "      <td>Field Blvd &amp; South Water St</td>\n",
       "      <td>15534</td>\n",
       "      <td>member</td>\n",
       "      <td>0:38</td>\n",
       "      <td>Wednesday</td>\n",
       "    </tr>\n",
       "    <tr>\n",
       "      <th>2</th>\n",
       "      <td>1542FBEC830415CF</td>\n",
       "      <td>classic_bike</td>\n",
       "      <td>2022-05-26 18:36:28</td>\n",
       "      <td>2022-05-26 18:58:18</td>\n",
       "      <td>Clinton St &amp; Madison St</td>\n",
       "      <td>TA1305000032</td>\n",
       "      <td>Wood St &amp; Milwaukee Ave</td>\n",
       "      <td>13221</td>\n",
       "      <td>member</td>\n",
       "      <td>0:22</td>\n",
       "      <td>Thursday</td>\n",
       "    </tr>\n",
       "    <tr>\n",
       "      <th>3</th>\n",
       "      <td>6FF59852924528F8</td>\n",
       "      <td>classic_bike</td>\n",
       "      <td>2022-05-10 07:30:07</td>\n",
       "      <td>2022-05-10 07:38:49</td>\n",
       "      <td>Clinton St &amp; Madison St</td>\n",
       "      <td>TA1305000032</td>\n",
       "      <td>Clark St &amp; Randolph St</td>\n",
       "      <td>TA1305000030</td>\n",
       "      <td>member</td>\n",
       "      <td>0:9</td>\n",
       "      <td>Tuesday</td>\n",
       "    </tr>\n",
       "    <tr>\n",
       "      <th>4</th>\n",
       "      <td>483C52CAAE12E3AC</td>\n",
       "      <td>classic_bike</td>\n",
       "      <td>2022-05-10 17:31:56</td>\n",
       "      <td>2022-05-10 17:36:57</td>\n",
       "      <td>Clinton St &amp; Madison St</td>\n",
       "      <td>TA1305000032</td>\n",
       "      <td>Morgan St &amp; Lake St</td>\n",
       "      <td>TA1306000015</td>\n",
       "      <td>member</td>\n",
       "      <td>0:5</td>\n",
       "      <td>Tuesday</td>\n",
       "    </tr>\n",
       "    <tr>\n",
       "      <th>...</th>\n",
       "      <td>...</td>\n",
       "      <td>...</td>\n",
       "      <td>...</td>\n",
       "      <td>...</td>\n",
       "      <td>...</td>\n",
       "      <td>...</td>\n",
       "      <td>...</td>\n",
       "      <td>...</td>\n",
       "      <td>...</td>\n",
       "      <td>...</td>\n",
       "      <td>...</td>\n",
       "    </tr>\n",
       "    <tr>\n",
       "      <th>558680</th>\n",
       "      <td>BC3BFA659C9AB6F1</td>\n",
       "      <td>classic_bike</td>\n",
       "      <td>2022-10-30 01:41:29</td>\n",
       "      <td>2022-10-30 01:57:16</td>\n",
       "      <td>Clifton Ave &amp; Armitage Ave</td>\n",
       "      <td>TA1307000163</td>\n",
       "      <td>Lincoln Ave &amp; Roscoe St*</td>\n",
       "      <td>chargingstx5</td>\n",
       "      <td>casual</td>\n",
       "      <td>0:16</td>\n",
       "      <td>Sunday</td>\n",
       "    </tr>\n",
       "    <tr>\n",
       "      <th>558681</th>\n",
       "      <td>ACD65450291CF95F</td>\n",
       "      <td>classic_bike</td>\n",
       "      <td>2022-10-30 01:41:54</td>\n",
       "      <td>2022-10-30 01:57:09</td>\n",
       "      <td>Clifton Ave &amp; Armitage Ave</td>\n",
       "      <td>TA1307000163</td>\n",
       "      <td>Lincoln Ave &amp; Roscoe St*</td>\n",
       "      <td>chargingstx5</td>\n",
       "      <td>casual</td>\n",
       "      <td>0:15</td>\n",
       "      <td>Sunday</td>\n",
       "    </tr>\n",
       "    <tr>\n",
       "      <th>558682</th>\n",
       "      <td>4AAC03D1438E97CA</td>\n",
       "      <td>classic_bike</td>\n",
       "      <td>2022-10-15 09:34:11</td>\n",
       "      <td>2022-10-15 10:03:21</td>\n",
       "      <td>Sedgwick St &amp; North Ave</td>\n",
       "      <td>TA1307000038</td>\n",
       "      <td>Wabash Ave &amp; Grand Ave</td>\n",
       "      <td>TA1307000117</td>\n",
       "      <td>casual</td>\n",
       "      <td>0:29</td>\n",
       "      <td>Saturday</td>\n",
       "    </tr>\n",
       "    <tr>\n",
       "      <th>558683</th>\n",
       "      <td>8E6F3F29785E5D40</td>\n",
       "      <td>classic_bike</td>\n",
       "      <td>2022-10-09 10:21:34</td>\n",
       "      <td>2022-10-09 10:43:45</td>\n",
       "      <td>Sedgwick St &amp; North Ave</td>\n",
       "      <td>TA1307000038</td>\n",
       "      <td>Damen Ave &amp; Clybourn Ave</td>\n",
       "      <td>13271</td>\n",
       "      <td>member</td>\n",
       "      <td>0:22</td>\n",
       "      <td>Sunday</td>\n",
       "    </tr>\n",
       "    <tr>\n",
       "      <th>558684</th>\n",
       "      <td>8D14CBE672431920</td>\n",
       "      <td>docked_bike</td>\n",
       "      <td>2022-10-22 13:17:13</td>\n",
       "      <td>2022-10-22 13:46:14</td>\n",
       "      <td>Clark St &amp; Armitage Ave</td>\n",
       "      <td>13146</td>\n",
       "      <td>Wabash Ave &amp; Grand Ave</td>\n",
       "      <td>TA1307000117</td>\n",
       "      <td>casual</td>\n",
       "      <td>0:29</td>\n",
       "      <td>Saturday</td>\n",
       "    </tr>\n",
       "  </tbody>\n",
       "</table>\n",
       "<p>4273506 rows × 11 columns</p>\n",
       "</div>"
      ],
      "text/plain": [
       "                 ride_id rideable_type          started_at  \\\n",
       "0       EC2DE40644C6B0F4  classic_bike 2022-05-23 23:06:58   \n",
       "1       1C31AD03897EE385  classic_bike 2022-05-11 08:53:28   \n",
       "2       1542FBEC830415CF  classic_bike 2022-05-26 18:36:28   \n",
       "3       6FF59852924528F8  classic_bike 2022-05-10 07:30:07   \n",
       "4       483C52CAAE12E3AC  classic_bike 2022-05-10 17:31:56   \n",
       "...                  ...           ...                 ...   \n",
       "558680  BC3BFA659C9AB6F1  classic_bike 2022-10-30 01:41:29   \n",
       "558681  ACD65450291CF95F  classic_bike 2022-10-30 01:41:54   \n",
       "558682  4AAC03D1438E97CA  classic_bike 2022-10-15 09:34:11   \n",
       "558683  8E6F3F29785E5D40  classic_bike 2022-10-09 10:21:34   \n",
       "558684  8D14CBE672431920   docked_bike 2022-10-22 13:17:13   \n",
       "\n",
       "                  ended_at                 start_station_name  \\\n",
       "0      2022-05-23 23:40:19             Wabash Ave & Grand Ave   \n",
       "1      2022-05-11 09:31:22  DuSable Lake Shore Dr & Monroe St   \n",
       "2      2022-05-26 18:58:18            Clinton St & Madison St   \n",
       "3      2022-05-10 07:38:49            Clinton St & Madison St   \n",
       "4      2022-05-10 17:36:57            Clinton St & Madison St   \n",
       "...                    ...                                ...   \n",
       "558680 2022-10-30 01:57:16         Clifton Ave & Armitage Ave   \n",
       "558681 2022-10-30 01:57:09         Clifton Ave & Armitage Ave   \n",
       "558682 2022-10-15 10:03:21            Sedgwick St & North Ave   \n",
       "558683 2022-10-09 10:43:45            Sedgwick St & North Ave   \n",
       "558684 2022-10-22 13:46:14            Clark St & Armitage Ave   \n",
       "\n",
       "       start_station_id             end_station_name end_station_id  \\\n",
       "0          TA1307000117       Halsted St & Roscoe St   TA1309000025   \n",
       "1                 13300  Field Blvd & South Water St          15534   \n",
       "2          TA1305000032      Wood St & Milwaukee Ave          13221   \n",
       "3          TA1305000032       Clark St & Randolph St   TA1305000030   \n",
       "4          TA1305000032          Morgan St & Lake St   TA1306000015   \n",
       "...                 ...                          ...            ...   \n",
       "558680     TA1307000163     Lincoln Ave & Roscoe St*   chargingstx5   \n",
       "558681     TA1307000163     Lincoln Ave & Roscoe St*   chargingstx5   \n",
       "558682     TA1307000038       Wabash Ave & Grand Ave   TA1307000117   \n",
       "558683     TA1307000038     Damen Ave & Clybourn Ave          13271   \n",
       "558684            13146       Wabash Ave & Grand Ave   TA1307000117   \n",
       "\n",
       "       member_casual duration day_of_week  \n",
       "0             member     0:33      Monday  \n",
       "1             member     0:38   Wednesday  \n",
       "2             member     0:22    Thursday  \n",
       "3             member      0:9     Tuesday  \n",
       "4             member      0:5     Tuesday  \n",
       "...              ...      ...         ...  \n",
       "558680        casual     0:16      Sunday  \n",
       "558681        casual     0:15      Sunday  \n",
       "558682        casual     0:29    Saturday  \n",
       "558683        member     0:22      Sunday  \n",
       "558684        casual     0:29    Saturday  \n",
       "\n",
       "[4273506 rows x 11 columns]"
      ]
     },
     "execution_count": 17,
     "metadata": {},
     "output_type": "execute_result"
    }
   ],
   "source": [
    "df"
   ]
  },
  {
   "cell_type": "markdown",
   "id": "35e46c93",
   "metadata": {
    "papermill": {
     "duration": 0.008885,
     "end_time": "2023-02-08T19:35:37.939077",
     "exception": false,
     "start_time": "2023-02-08T19:35:37.930192",
     "status": "completed"
    },
    "tags": []
   },
   "source": [
    "Analyze"
   ]
  },
  {
   "cell_type": "markdown",
   "id": "988df1fe",
   "metadata": {
    "papermill": {
     "duration": 0.010347,
     "end_time": "2023-02-08T19:35:37.958775",
     "exception": false,
     "start_time": "2023-02-08T19:35:37.948428",
     "status": "completed"
    },
    "tags": []
   },
   "source": [
    "# Ananlyze: How do annual members and casual riders use Cyclistic bikes differently?"
   ]
  },
  {
   "cell_type": "code",
   "execution_count": 18,
   "id": "ee44780b",
   "metadata": {
    "execution": {
     "iopub.execute_input": "2023-02-08T19:35:37.982304Z",
     "iopub.status.busy": "2023-02-08T19:35:37.981140Z",
     "iopub.status.idle": "2023-02-08T19:35:38.437836Z",
     "shell.execute_reply": "2023-02-08T19:35:38.436163Z"
    },
    "papermill": {
     "duration": 0.472115,
     "end_time": "2023-02-08T19:35:38.441411",
     "exception": false,
     "start_time": "2023-02-08T19:35:37.969296",
     "status": "completed"
    },
    "tags": []
   },
   "outputs": [
    {
     "name": "stdout",
     "output_type": "stream",
     "text": [
      "4273506\n",
      "member    55.1\n",
      "casual    44.9\n",
      "Name: member_casual, dtype: float64\n"
     ]
    }
   ],
   "source": [
    "#Count riders and show mean\n",
    "ct = df['member_casual'].count()\n",
    "member_ct = df['member_casual'].value_counts()\n",
    "mem_pct = ((member_ct/ct)*100).round(decimals=1)\n",
    "print(ct)\n",
    "print(mem_pct)"
   ]
  },
  {
   "cell_type": "code",
   "execution_count": 19,
   "id": "21924916",
   "metadata": {
    "execution": {
     "iopub.execute_input": "2023-02-08T19:35:38.463657Z",
     "iopub.status.busy": "2023-02-08T19:35:38.462392Z",
     "iopub.status.idle": "2023-02-08T19:35:39.709250Z",
     "shell.execute_reply": "2023-02-08T19:35:39.707205Z"
    },
    "papermill": {
     "duration": 1.261647,
     "end_time": "2023-02-08T19:35:39.713154",
     "exception": false,
     "start_time": "2023-02-08T19:35:38.451507",
     "status": "completed"
    },
    "tags": []
   },
   "outputs": [
    {
     "data": {
      "text/plain": [
       "member_casual\n",
       "casual    9:9\n",
       "member    9:8\n",
       "Name: duration, dtype: object"
      ]
     },
     "execution_count": 19,
     "metadata": {},
     "output_type": "execute_result"
    }
   ],
   "source": [
    "mem_duration = df.groupby('member_casual')['duration'].max()\n",
    "mem_duration\n",
    "\n"
   ]
  },
  {
   "cell_type": "code",
   "execution_count": 20,
   "id": "ba194bef",
   "metadata": {
    "execution": {
     "iopub.execute_input": "2023-02-08T19:35:39.737259Z",
     "iopub.status.busy": "2023-02-08T19:35:39.736764Z",
     "iopub.status.idle": "2023-02-08T19:35:48.751305Z",
     "shell.execute_reply": "2023-02-08T19:35:48.749935Z"
    },
    "papermill": {
     "duration": 9.03063,
     "end_time": "2023-02-08T19:35:48.754381",
     "exception": false,
     "start_time": "2023-02-08T19:35:39.723751",
     "status": "completed"
    },
    "tags": []
   },
   "outputs": [],
   "source": [
    "#duration in HH:MM(str)  convert as variable duration1(float)thx google\n",
    "df['duration_flt'] = pd.to_numeric(df['duration'].str.split(':').apply(lambda x: int(x[0]) + int(x[1])/60))"
   ]
  },
  {
   "cell_type": "code",
   "execution_count": 21,
   "id": "ef9f02af",
   "metadata": {
    "execution": {
     "iopub.execute_input": "2023-02-08T19:35:48.775363Z",
     "iopub.status.busy": "2023-02-08T19:35:48.774908Z",
     "iopub.status.idle": "2023-02-08T19:35:51.709798Z",
     "shell.execute_reply": "2023-02-08T19:35:51.708430Z"
    },
    "papermill": {
     "duration": 2.94887,
     "end_time": "2023-02-08T19:35:51.712715",
     "exception": false,
     "start_time": "2023-02-08T19:35:48.763845",
     "status": "completed"
    },
    "tags": []
   },
   "outputs": [
    {
     "data": {
      "text/html": [
       "<div>\n",
       "<style scoped>\n",
       "    .dataframe tbody tr th:only-of-type {\n",
       "        vertical-align: middle;\n",
       "    }\n",
       "\n",
       "    .dataframe tbody tr th {\n",
       "        vertical-align: top;\n",
       "    }\n",
       "\n",
       "    .dataframe thead tr th {\n",
       "        text-align: left;\n",
       "    }\n",
       "\n",
       "    .dataframe thead tr:last-of-type th {\n",
       "        text-align: right;\n",
       "    }\n",
       "</style>\n",
       "<table border=\"1\" class=\"dataframe\">\n",
       "  <thead>\n",
       "    <tr>\n",
       "      <th></th>\n",
       "      <th>mean</th>\n",
       "      <th>median</th>\n",
       "    </tr>\n",
       "    <tr>\n",
       "      <th></th>\n",
       "      <th>duration_flt</th>\n",
       "      <th>duration_flt</th>\n",
       "    </tr>\n",
       "    <tr>\n",
       "      <th>member_casual</th>\n",
       "      <th></th>\n",
       "      <th></th>\n",
       "    </tr>\n",
       "  </thead>\n",
       "  <tbody>\n",
       "    <tr>\n",
       "      <th>casual</th>\n",
       "      <td>0.492372</td>\n",
       "      <td>0.216667</td>\n",
       "    </tr>\n",
       "    <tr>\n",
       "      <th>member</th>\n",
       "      <td>0.220954</td>\n",
       "      <td>0.150000</td>\n",
       "    </tr>\n",
       "  </tbody>\n",
       "</table>\n",
       "</div>"
      ],
      "text/plain": [
       "                      mean       median\n",
       "              duration_flt duration_flt\n",
       "member_casual                          \n",
       "casual            0.492372     0.216667\n",
       "member            0.220954     0.150000"
      ]
     },
     "execution_count": 21,
     "metadata": {},
     "output_type": "execute_result"
    }
   ],
   "source": [
    "#mean and median duration \n",
    "df.pivot_table(values='duration_flt', index='member_casual', aggfunc=[np.mean,np.median])\n"
   ]
  },
  {
   "cell_type": "code",
   "execution_count": 22,
   "id": "9f47247f",
   "metadata": {
    "execution": {
     "iopub.execute_input": "2023-02-08T19:35:51.734196Z",
     "iopub.status.busy": "2023-02-08T19:35:51.733738Z",
     "iopub.status.idle": "2023-02-08T19:35:52.028569Z",
     "shell.execute_reply": "2023-02-08T19:35:52.027161Z"
    },
    "papermill": {
     "duration": 0.309331,
     "end_time": "2023-02-08T19:35:52.031669",
     "exception": false,
     "start_time": "2023-02-08T19:35:51.722338",
     "status": "completed"
    },
    "tags": []
   },
   "outputs": [
    {
     "data": {
      "text/plain": [
       "electric_bike    2159008\n",
       "classic_bike     1967631\n",
       "docked_bike       146867\n",
       "Name: rideable_type, dtype: int64"
      ]
     },
     "execution_count": 22,
     "metadata": {},
     "output_type": "execute_result"
    }
   ],
   "source": [
    "bike_ct= df['rideable_type'].value_counts()\n",
    "bike_ct"
   ]
  },
  {
   "cell_type": "code",
   "execution_count": 23,
   "id": "5a206eed",
   "metadata": {
    "execution": {
     "iopub.execute_input": "2023-02-08T19:35:52.054405Z",
     "iopub.status.busy": "2023-02-08T19:35:52.053915Z",
     "iopub.status.idle": "2023-02-08T19:35:54.111971Z",
     "shell.execute_reply": "2023-02-08T19:35:54.110557Z"
    },
    "papermill": {
     "duration": 2.072911,
     "end_time": "2023-02-08T19:35:54.115040",
     "exception": false,
     "start_time": "2023-02-08T19:35:52.042129",
     "status": "completed"
    },
    "tags": []
   },
   "outputs": [
    {
     "data": {
      "text/plain": [
       "member_casual  rideable_type  rideable_type\n",
       "casual         classic_bike   classic_bike      747744\n",
       "               docked_bike    docked_bike       146867\n",
       "               electric_bike  electric_bike    1025520\n",
       "member         classic_bike   classic_bike     1219887\n",
       "               electric_bike  electric_bike    1133488\n",
       "Name: rideable_type, dtype: int64"
      ]
     },
     "execution_count": 23,
     "metadata": {},
     "output_type": "execute_result"
    }
   ],
   "source": [
    "#df.pivot_table(values=['rideable_type'].value_counts(), index='member_casual', columns='rideable_type')\n",
    "df.groupby(['member_casual','rideable_type'])['rideable_type'].value_counts()"
   ]
  },
  {
   "cell_type": "code",
   "execution_count": 24,
   "id": "74e2b633",
   "metadata": {
    "execution": {
     "iopub.execute_input": "2023-02-08T19:35:54.137785Z",
     "iopub.status.busy": "2023-02-08T19:35:54.137273Z",
     "iopub.status.idle": "2023-02-08T19:35:57.495531Z",
     "shell.execute_reply": "2023-02-08T19:35:57.493481Z"
    },
    "papermill": {
     "duration": 3.373507,
     "end_time": "2023-02-08T19:35:57.498725",
     "exception": false,
     "start_time": "2023-02-08T19:35:54.125218",
     "status": "completed"
    },
    "tags": []
   },
   "outputs": [
    {
     "name": "stdout",
     "output_type": "stream",
     "text": [
      "day_of_week\n",
      "Monday       327016\n",
      "Tuesday      345552\n",
      "Wednesday    360521\n",
      "Thursday     369659\n",
      "Friday       337333\n",
      "Saturday     327600\n",
      "Sunday       285694\n",
      "Name: member_casual, dtype: int64\n"
     ]
    }
   ],
   "source": [
    "# member and casual riders each day grouped in order by day of week\n",
    "cats = [ 'Monday', 'Tuesday', 'Wednesday', 'Thursday', 'Friday', 'Saturday', 'Sunday']\n",
    "df_weekday = df[df['day_of_week'].isin(['Monday', 'Tuesday', 'Wednesday', 'Thursday', 'Friday', 'Saturday', 'Sunday'])]\n",
    "mem_wd_ct= df_weekday[df_weekday['member_casual'] == 'member'].groupby('day_of_week')['member_casual'].count().reindex(cats[:7])\n",
    "cas_wd_ct=df_weekday[df_weekday['member_casual'] == 'casual'].groupby('day_of_week')['member_casual'].count().reindex(cats[:7])\n",
    "\n",
    "print(mem_wd_ct)\n"
   ]
  },
  {
   "cell_type": "code",
   "execution_count": 25,
   "id": "940d27b6",
   "metadata": {
    "execution": {
     "iopub.execute_input": "2023-02-08T19:35:57.522755Z",
     "iopub.status.busy": "2023-02-08T19:35:57.522186Z",
     "iopub.status.idle": "2023-02-08T19:35:57.529927Z",
     "shell.execute_reply": "2023-02-08T19:35:57.528394Z"
    },
    "papermill": {
     "duration": 0.024349,
     "end_time": "2023-02-08T19:35:57.534013",
     "exception": false,
     "start_time": "2023-02-08T19:35:57.509664",
     "status": "completed"
    },
    "tags": []
   },
   "outputs": [
    {
     "name": "stdout",
     "output_type": "stream",
     "text": [
      "day_of_week\n",
      "Monday       229093\n",
      "Tuesday      212136\n",
      "Wednesday    220888\n",
      "Thursday     249947\n",
      "Friday       283844\n",
      "Saturday     395711\n",
      "Sunday       328512\n",
      "Name: member_casual, dtype: int64\n"
     ]
    }
   ],
   "source": [
    "print(cas_wd_ct)"
   ]
  },
  {
   "cell_type": "code",
   "execution_count": 26,
   "id": "c44404e1",
   "metadata": {
    "execution": {
     "iopub.execute_input": "2023-02-08T19:35:57.558581Z",
     "iopub.status.busy": "2023-02-08T19:35:57.558099Z",
     "iopub.status.idle": "2023-02-08T19:35:57.825252Z",
     "shell.execute_reply": "2023-02-08T19:35:57.823893Z"
    },
    "papermill": {
     "duration": 0.282338,
     "end_time": "2023-02-08T19:35:57.828166",
     "exception": false,
     "start_time": "2023-02-08T19:35:57.545828",
     "status": "completed"
    },
    "tags": []
   },
   "outputs": [
    {
     "data": {
      "image/png": "[encoded data removed]",
      "text/plain": [
       "<Figure size 432x288 with 1 Axes>"
      ]
     },
     "metadata": {
      "needs_background": "light"
     },
     "output_type": "display_data"
    }
   ],
   "source": [
    "# plot to show how weekend is opposite\n",
    "barWidth = 0.4\n",
    "r1 = np.arange(len(mem_wd_ct))\n",
    "r2 = [x + barWidth for x in r1]\n",
    "\n",
    "plt.bar(r1, mem_wd_ct, width = barWidth, label = 'member')\n",
    "plt.bar(r2, cas_wd_ct, width = barWidth, label = 'casual')\n",
    "\n",
    "# labels and title\n",
    "plt.xlabel('Day of Week')\n",
    "plt.ylabel('Count')\n",
    "plt.title('Count of Member and Casual by Day of Week')\n",
    "\n",
    "# xticks to fit and rotate x labels\n",
    "plt.xticks([r + barWidth/2 for r in range(len(mem_wd_ct))], mem_wd_ct.index)\n",
    "plt.xticks(rotation=30)\n",
    "\n",
    "plt.legend()\n",
    "\n",
    "plt.show()"
   ]
  },
  {
   "cell_type": "markdown",
   "id": "8b965d19",
   "metadata": {
    "papermill": {
     "duration": 0.01056,
     "end_time": "2023-02-08T19:35:57.850512",
     "exception": false,
     "start_time": "2023-02-08T19:35:57.839952",
     "status": "completed"
    },
    "tags": []
   },
   "source": [
    "### It appears that members use the service more during the weekdays.  This may be due to them using the bicycles to get to and from work.  It also may be a means of exercise as the service is already paid for.  Casual members use the service more on weekends.  This may be due to more recreational use by casual members."
   ]
  }
 ],
 "metadata": {
  "kernelspec": {
   "display_name": "Python 3",
   "language": "python",
   "name": "python3"
  },
  "language_info": {
   "codemirror_mode": {
    "name": "ipython",
    "version": 3
   },
   "file_extension": ".py",
   "mimetype": "text/x-python",
   "name": "python",
   "nbconvert_exporter": "python",
   "pygments_lexer": "ipython3",
   "version": "3.7.12"
  },
  "papermill": {
   "default_parameters": {},
   "duration": 193.906137,
   "end_time": "2023-02-08T19:35:59.993246",
   "environment_variables": {},
   "exception": null,
   "input_path": "__notebook__.ipynb",
   "output_path": "__notebook__.ipynb",
   "parameters": {},
   "start_time": "2023-02-08T19:32:46.087109",
   "version": "2.3.4"
  }
 },
 "nbformat": 4,
 "nbformat_minor": 5
}
